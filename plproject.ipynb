{
 "cells": [
  {
   "cell_type": "markdown",
   "metadata": {},
   "source": [
    "# Using Text Mining and Natural Language Processing to Evaluate Powerlifting Injuries: A Rapid Analysis of Current Studies"
   ]
  },
  {
   "cell_type": "code",
   "execution_count": 9,
   "metadata": {},
   "outputs": [
    {
     "name": "stdout",
     "output_type": "stream",
     "text": [
      "Data collection complete.\n"
     ]
    }
   ],
   "source": [
    "import requests\n",
    "from bs4 import BeautifulSoup\n",
    "import pandas as pd\n",
    "import re\n",
    "import pickle\n",
    "from sklearn.feature_extraction.text import TfidfVectorizer\n",
    "from sklearn.linear_model import LogisticRegression\n",
    "from sklearn.model_selection import train_test_split\n",
    "\n",
    "# Define specific keywords related to powerlifting injuries\n",
    "keywords = [\n",
    "    \"lower back pain powerlifting\",\n",
    "    \"shoulder injury powerlifting\",\n",
    "    \"knee injury powerlifting\",\n",
    "    \"wrist pain powerlifting\",\n",
    "    \"elbow pain powerlifting\",\n",
    "    \"hip injury powerlifting\",\n",
    "    \"ankle injury powerlifting\"\n",
    "]\n",
    "\n",
    "def fetch_articles(keyword, num_articles=30):\n",
    "    base_url = 'https://scholar.google.com/scholar'\n",
    "    articles = []\n",
    "\n",
    "    for i in range(0, num_articles, 10):\n",
    "        params = {\n",
    "            'hl': 'en',\n",
    "            'as_sdt': '0,5',\n",
    "            'q': keyword,\n",
    "            'start': i\n",
    "        }\n",
    "        response = requests.get(base_url, params=params)\n",
    "        soup = BeautifulSoup(response.text, 'html.parser')\n",
    "\n",
    "        # Find all the search result divs\n",
    "        result_divs = soup.find_all('div', class_='gs_ri')\n",
    "\n",
    "        for div in result_divs:\n",
    "            title_tag = div.find('h3', class_='gs_rt')\n",
    "            snippet_tag = div.find('div', class_='gs_rs')\n",
    "            link_tag = title_tag.find('a') if title_tag else None\n",
    "\n",
    "            if title_tag and snippet_tag:\n",
    "                title = title_tag.text\n",
    "                snippet = snippet_tag.text\n",
    "                link = link_tag['href'] if link_tag else 'No link available'\n",
    "                articles.append({'title': title, 'snippet': snippet, 'link': link})\n",
    "\n",
    "    return articles\n",
    "\n",
    "def clean_text(text):\n",
    "    text = re.sub(r'\\s+', ' ', text)  # Remove extra spaces\n",
    "    text = re.sub(r'\\[.*?\\]', '', text)  # Remove citations\n",
    "    text = re.sub(r'\\W', ' ', text)  # Remove non-word characters\n",
    "    text = text.lower().strip()  # Convert to lowercase and strip whitespace\n",
    "    return text\n",
    "\n",
    "# Fetch and preprocess articles\n",
    "all_articles = []\n",
    "for keyword in keywords:\n",
    "    articles = fetch_articles(keyword)\n",
    "    all_articles.extend(articles)\n",
    "\n",
    "# Filter out any articles that don't have the required keys\n",
    "filtered_articles = [article for article in all_articles if 'title' in article and 'snippet' in article and 'link' in article]\n",
    "\n",
    "# Create DataFrame\n",
    "df = pd.DataFrame(filtered_articles)\n",
    "df['snippet'] = df['snippet'].apply(clean_text)\n",
    "\n",
    "# Save raw data for further inspection and annotation\n",
    "df.to_csv('powerlifting_injuries.csv', index=False)\n",
    "\n",
    "print(\"Data collection complete.\")\n"
   ]
  },
  {
   "cell_type": "code",
   "execution_count": null,
   "metadata": {},
   "outputs": [],
   "source": []
  }
 ],
 "metadata": {
  "kernelspec": {
   "display_name": "Python 3",
   "language": "python",
   "name": "python3"
  },
  "language_info": {
   "codemirror_mode": {
    "name": "ipython",
    "version": 3
   },
   "file_extension": ".py",
   "mimetype": "text/x-python",
   "name": "python",
   "nbconvert_exporter": "python",
   "pygments_lexer": "ipython3",
   "version": "3.12.1"
  }
 },
 "nbformat": 4,
 "nbformat_minor": 2
}
